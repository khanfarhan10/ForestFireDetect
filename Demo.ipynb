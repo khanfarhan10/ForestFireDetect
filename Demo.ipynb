{
 "metadata": {
  "language_info": {
   "codemirror_mode": {
    "name": "ipython",
    "version": 3
   },
   "file_extension": ".py",
   "mimetype": "text/x-python",
   "name": "python",
   "nbconvert_exporter": "python",
   "pygments_lexer": "ipython3",
   "version": "3.7.6"
  },
  "orig_nbformat": 4,
  "kernelspec": {
   "name": "fireenv",
   "display_name": "Python 3.7.6 64-bit ('FireEnv': venv)"
  },
  "interpreter": {
   "hash": "5e8f5dc85092bdbfee203926c3d6d8596c3bf31d85bb8284db631146f2b177fb"
  }
 },
 "nbformat": 4,
 "nbformat_minor": 2,
 "cells": [
  {
   "cell_type": "code",
   "execution_count": 1,
   "metadata": {},
   "outputs": [],
   "source": [
    "import ee\n",
    "import geemap\n",
    "import os"
   ]
  },
  {
   "cell_type": "code",
   "execution_count": 2,
   "metadata": {},
   "outputs": [
    {
     "output_type": "display_data",
     "data": {
      "text/plain": "<IPython.core.display.HTML object>",
      "text/html": "<p>To authorize access needed by Earth Engine, open the following\n        URL in a web browser and follow the instructions:</p>\n        <p><a href=https://accounts.google.com/o/oauth2/auth?client_id=517222506229-vsmmajv00ul0bs7p89v5m89qs8eb9359.apps.googleusercontent.com&scope=https%3A%2F%2Fwww.googleapis.com%2Fauth%2Fearthengine+https%3A%2F%2Fwww.googleapis.com%2Fauth%2Fdevstorage.full_control&redirect_uri=urn%3Aietf%3Awg%3Aoauth%3A2.0%3Aoob&response_type=code&code_challenge=IkgfemtIXB206VpGUOGbWc6huJrXWG65SMG7KTa3ZKY&code_challenge_method=S256>https://accounts.google.com/o/oauth2/auth?client_id=517222506229-vsmmajv00ul0bs7p89v5m89qs8eb9359.apps.googleusercontent.com&scope=https%3A%2F%2Fwww.googleapis.com%2Fauth%2Fearthengine+https%3A%2F%2Fwww.googleapis.com%2Fauth%2Fdevstorage.full_control&redirect_uri=urn%3Aietf%3Awg%3Aoauth%3A2.0%3Aoob&response_type=code&code_challenge=IkgfemtIXB206VpGUOGbWc6huJrXWG65SMG7KTa3ZKY&code_challenge_method=S256</a></p>\n        <p>The authorization workflow will generate a code, which you\n        should paste in the box below</p>\n        "
     },
     "metadata": {}
    },
    {
     "output_type": "stream",
     "name": "stdout",
     "text": [
      "\nSuccessfully saved authorization token.\n"
     ]
    }
   ],
   "source": [
    "ee.Authenticate()"
   ]
  },
  {
   "cell_type": "code",
   "execution_count": 24,
   "metadata": {},
   "outputs": [],
   "source": [
    "Map = geemap.Map()"
   ]
  },
  {
   "cell_type": "code",
   "execution_count": 25,
   "metadata": {},
   "outputs": [],
   "source": [
    "# Load the Nighttime Image Collection\n",
    "RTMA_Image_Collection = 'NOAA/NWS/RTMA'\n",
    "all_collection = ee.ImageCollection(RTMA_Image_Collection)"
   ]
  },
  {
   "cell_type": "code",
   "execution_count": 26,
   "metadata": {},
   "outputs": [
    {
     "output_type": "stream",
     "name": "stdout",
     "text": [
      "Date Today : 2021-06-18 | Date Yesterday : 2021-06-17\n"
     ]
    }
   ],
   "source": [
    "from datetime import datetime, timedelta\n",
    "date_today = datetime.today().strftime('%Y-%m-%d')\n",
    "date_yesterday = datetime.strftime(datetime.now() - timedelta(1), '%Y-%m-%d')\n",
    "\n",
    "print(\"Date Today :\",date_today,\"| Date Yesterday :\",date_yesterday)"
   ]
  },
  {
   "cell_type": "code",
   "execution_count": 27,
   "metadata": {},
   "outputs": [],
   "source": [
    "dataset = all_collection.filter(ee.Filter.date(date_yesterday, date_today))"
   ]
  },
  {
   "cell_type": "code",
   "execution_count": 28,
   "metadata": {},
   "outputs": [],
   "source": [
    "Map.add_basemap('Google Satellite') # 'Google Satellite' / Terrain"
   ]
  },
  {
   "cell_type": "code",
   "execution_count": 29,
   "metadata": {},
   "outputs": [
    {
     "output_type": "display_data",
     "data": {
      "text/plain": "Map(center=[40, -100], controls=(WidgetControl(options=['position'], widget=HBox(children=(ToggleButton(value=…",
      "application/vnd.jupyter.widget-view+json": {
       "version_major": 2,
       "version_minor": 0,
       "model_id": "bd3dec7e9cd5493f8b39a08015cf25f7"
      }
     },
     "metadata": {}
    }
   ],
   "source": [
    "Map"
   ]
  },
  {
   "cell_type": "code",
   "execution_count": 30,
   "metadata": {},
   "outputs": [],
   "source": [
    "# Draw any shapes on the map using the Drawing tools before executing this code block\n",
    "try :\n",
    "    feature = Map.draw_last_feature\n",
    "except:\n",
    "    feature=None\n",
    "if feature is None:\n",
    "    \"\"\"\n",
    "    geom = ee.Geometry.Polygon([[[-115.413031, 35.889467],\n",
    "    [-115.413031, 36.543157],\n",
    "    [-114.034328, 36.543157],\n",
    "    [-114.034328, 35.889467],\n",
    "    [-115.413031, 35.889467]]])\n",
    "    \"\"\"\n",
    "    geom = ee.Geometry.Polygon([[[-124.86316,56.97715],\n",
    "    [-70.20644,53.78275],\n",
    "    [-73.90380, 26.83366],\n",
    "    [-134.74959, 27.33460]]])\n",
    "    feature = ee.Feature(geom, {})\n",
    "\n",
    "roi = feature.geometry()\n",
    "\n",
    "from copy import deepcopy\n",
    "aoi = deepcopy(roi)"
   ]
  },
  {
   "cell_type": "code",
   "execution_count": 31,
   "metadata": {},
   "outputs": [
    {
     "output_type": "execute_result",
     "data": {
      "text/plain": [
       "ee.geometry.Geometry"
      ]
     },
     "metadata": {},
     "execution_count": 31
    }
   ],
   "source": [
    "type(roi)"
   ]
  },
  {
   "cell_type": "code",
   "execution_count": 110,
   "metadata": {},
   "outputs": [],
   "source": []
  },
  {
   "cell_type": "code",
   "execution_count": 32,
   "metadata": {},
   "outputs": [],
   "source": [
    "feat = ee.Feature(roi)\n",
    "Map.addLayer(feat);\n",
    "Map.centerObject(feature,4);"
   ]
  },
  {
   "cell_type": "code",
   "execution_count": 118,
   "metadata": {},
   "outputs": [],
   "source": []
  },
  {
   "cell_type": "code",
   "execution_count": 33,
   "metadata": {},
   "outputs": [
    {
     "output_type": "display_data",
     "data": {
      "text/plain": "Map(bottom=1851.0, center=[43.4964195182664, -101.70865951901703], controls=(WidgetControl(options=['position'…",
      "application/vnd.jupyter.widget-view+json": {
       "version_major": 2,
       "version_minor": 0,
       "model_id": "bd3dec7e9cd5493f8b39a08015cf25f7"
      }
     },
     "metadata": {}
    }
   ],
   "source": [
    "Map"
   ]
  },
  {
   "cell_type": "code",
   "execution_count": 34,
   "metadata": {},
   "outputs": [],
   "source": [
    "# sf = ee.Geometry.Point([-122.47555371521855, 37.76884708376152]);\n",
    "# Amazon Rainforests\n",
    "P1 = (-3.03014,-62.60020)\n",
    "P2 = (-3.71241,-61.74739)\n",
    "\n",
    "# North America\n",
    "P1 = (-40,-20)\n",
    "P2= (40,20)\n",
    "\n",
    "# South America\n",
    "P1 = (7.3625,266.9549)\n",
    "P2= (-52.9089,335.1825)\n",
    "\n",
    "x1,y1 = P1\n",
    "x2,y2 = P2\n",
    "\n",
    "# roi = ee.Geometry.Rectangle([-40, -20, 40, 20])\n",
    "roi = ee.Geometry.Rectangle([x1,y1,x2,y2])\n",
    "bounded = dataset.filterBounds(roi)"
   ]
  },
  {
   "cell_type": "code",
   "execution_count": 35,
   "metadata": {},
   "outputs": [],
   "source": [
    "def getMidpoint(P1,P2):\n",
    "  x1,y1 = P1\n",
    "  x2,y2 = P2\n",
    "\n",
    "  xCenter = (x1 + x2) / 2\n",
    "  yCenter = (y1 + y2) / 2\n",
    "\n",
    "  return xCenter,yCenter\n",
    "\n",
    "PCenter = getMidpoint(P1,P2)\n",
    "\n",
    "xCenter,yCenter = PCenter"
   ]
  },
  {
   "cell_type": "code",
   "execution_count": 36,
   "metadata": {},
   "outputs": [
    {
     "output_type": "execute_result",
     "data": {
      "text/plain": [
       "['HGT',\n",
       " 'PRES',\n",
       " 'TMP',\n",
       " 'DPT',\n",
       " 'UGRD',\n",
       " 'VGRD',\n",
       " 'SPFH',\n",
       " 'WDIR',\n",
       " 'WIND',\n",
       " 'GUST',\n",
       " 'VIS',\n",
       " 'TCDC']"
      ]
     },
     "metadata": {},
     "execution_count": 36
    }
   ],
   "source": [
    "# Extract the first image\n",
    "first_image = bounded.first()\n",
    " \n",
    "# Display band information about the image\n",
    "first_image.bandNames().getInfo()"
   ]
  },
  {
   "cell_type": "code",
   "execution_count": 123,
   "metadata": {},
   "outputs": [],
   "source": []
  },
  {
   "cell_type": "code",
   "execution_count": 37,
   "metadata": {},
   "outputs": [],
   "source": [
    "lengthCollection = bounded.size()\n",
    "listOfImages = ee.Image(bounded.toList(bounded.size()));\n",
    "firstImage = ee.Image(listOfImages.get(0));\n",
    "secondImage = ee.Image(listOfImages.get(1));\n"
   ]
  },
  {
   "cell_type": "code",
   "execution_count": 38,
   "metadata": {},
   "outputs": [],
   "source": [
    "lastImage = ee.Image(listOfImages.get(lengthCollection.subtract(1)));"
   ]
  },
  {
   "cell_type": "code",
   "execution_count": 39,
   "metadata": {},
   "outputs": [
    {
     "output_type": "execute_result",
     "data": {
      "text/plain": [
       "['HGT_median',\n",
       " 'PRES_median',\n",
       " 'TMP_median',\n",
       " 'DPT_median',\n",
       " 'UGRD_median',\n",
       " 'VGRD_median',\n",
       " 'SPFH_median',\n",
       " 'WDIR_median',\n",
       " 'WIND_median',\n",
       " 'GUST_median',\n",
       " 'VIS_median',\n",
       " 'TCDC_median']"
      ]
     },
     "metadata": {},
     "execution_count": 39
    }
   ],
   "source": [
    "# Compute the median in each band, each pixel.\n",
    "# Band names are B1_median, B2_median, etc.\n",
    "median = bounded.reduce(ee.Reducer.median());\n",
    "median.bandNames().getInfo()"
   ]
  },
  {
   "cell_type": "code",
   "execution_count": 40,
   "metadata": {},
   "outputs": [],
   "source": [
    "# The output is an Image.  Add it to the map.\n",
    "vis_param = {\"bands\": ['TMP_median', 'WDIR_median', 'WIND_median'], \"gamma\": 0.8};"
   ]
  },
  {
   "cell_type": "code",
   "execution_count": 41,
   "metadata": {},
   "outputs": [],
   "source": [
    "# Map.setCenter(-122.3355, 37.7924, 9);\n",
    "\n",
    "Map.addLayer(median, vis_param, RTMA_Image_Collection, True, 1)"
   ]
  },
  {
   "cell_type": "code",
   "execution_count": null,
   "metadata": {},
   "outputs": [],
   "source": []
  },
  {
   "cell_type": "code",
   "execution_count": 42,
   "metadata": {},
   "outputs": [
    {
     "output_type": "display_data",
     "data": {
      "text/plain": "Map(bottom=1797.0, center=[43.51668853502909, -101.689453125], controls=(WidgetControl(options=['position'], w…",
      "application/vnd.jupyter.widget-view+json": {
       "version_major": 2,
       "version_minor": 0,
       "model_id": "bd3dec7e9cd5493f8b39a08015cf25f7"
      }
     },
     "metadata": {}
    }
   ],
   "source": [
    "Map"
   ]
  },
  {
   "cell_type": "code",
   "execution_count": 22,
   "metadata": {},
   "outputs": [
    {
     "output_type": "execute_result",
     "data": {
      "text/plain": [
       "geemap.geemap.Map"
      ]
     },
     "metadata": {},
     "execution_count": 22
    }
   ],
   "source": [
    "type(Map)"
   ]
  },
  {
   "cell_type": "code",
   "execution_count": 23,
   "metadata": {},
   "outputs": [
    {
     "output_type": "stream",
     "name": "stdout",
     "text": [
      "Image.sampleRectangle: Fully masked pixels / pixels outside of the image footprint when sampling band 'VIS_median' with no default value set. Note that calling sampleRectangle() on an image after ee.Image.clip() may result in a sampling bounding box outside the geometry passed to clip().\n"
     ]
    },
    {
     "output_type": "error",
     "ename": "AttributeError",
     "evalue": "'NoneType' object has no attribute 'shape'",
     "traceback": [
      "\u001b[1;31m---------------------------------------------------------------------------\u001b[0m",
      "\u001b[1;31mAttributeError\u001b[0m                            Traceback (most recent call last)",
      "\u001b[1;32m<ipython-input-23-bee059fbdeb5>\u001b[0m in \u001b[0;36m<module>\u001b[1;34m\u001b[0m\n\u001b[0;32m      1\u001b[0m \u001b[0mrgb_img\u001b[0m \u001b[1;33m=\u001b[0m \u001b[0mgeemap\u001b[0m\u001b[1;33m.\u001b[0m\u001b[0mee_to_numpy\u001b[0m\u001b[1;33m(\u001b[0m\u001b[0mmedian\u001b[0m\u001b[1;33m,\u001b[0m \u001b[0mregion\u001b[0m\u001b[1;33m=\u001b[0m\u001b[0maoi\u001b[0m\u001b[1;33m)\u001b[0m\u001b[1;33m\u001b[0m\u001b[1;33m\u001b[0m\u001b[0m\n\u001b[1;32m----> 2\u001b[1;33m \u001b[0mprint\u001b[0m\u001b[1;33m(\u001b[0m\u001b[0mrgb_img\u001b[0m\u001b[1;33m.\u001b[0m\u001b[0mshape\u001b[0m\u001b[1;33m)\u001b[0m\u001b[1;33m\u001b[0m\u001b[1;33m\u001b[0m\u001b[0m\n\u001b[0m",
      "\u001b[1;31mAttributeError\u001b[0m: 'NoneType' object has no attribute 'shape'"
     ]
    }
   ],
   "source": [
    "rgb_img = geemap.ee_to_numpy(median, region=aoi)\n",
    "print(rgb_img.shape)"
   ]
  },
  {
   "cell_type": "code",
   "execution_count": null,
   "metadata": {},
   "outputs": [],
   "source": []
  }
 ]
}